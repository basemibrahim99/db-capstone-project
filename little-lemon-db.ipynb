{
 "cells": [
  {
   "cell_type": "code",
   "execution_count": 2,
   "id": "acca7a3c-c939-4f40-bfa0-c94d4f44971d",
   "metadata": {},
   "outputs": [
    {
     "name": "stdout",
     "output_type": "stream",
     "text": [
      "Requirement already satisfied: mysql-connector-python in /Users/basemibrahim/.pyenv/versions/3.11.2/lib/python3.11/site-packages (8.1.0)\n",
      "Requirement already satisfied: protobuf<=4.21.12,>=4.21.1 in /Users/basemibrahim/.pyenv/versions/3.11.2/lib/python3.11/site-packages (from mysql-connector-python) (4.21.12)\n",
      "\n",
      "\u001b[1m[\u001b[0m\u001b[34;49mnotice\u001b[0m\u001b[1;39;49m]\u001b[0m\u001b[39;49m A new release of pip available: \u001b[0m\u001b[31;49m22.3.1\u001b[0m\u001b[39;49m -> \u001b[0m\u001b[32;49m23.3.2\u001b[0m\n",
      "\u001b[1m[\u001b[0m\u001b[34;49mnotice\u001b[0m\u001b[1;39;49m]\u001b[0m\u001b[39;49m To update, run: \u001b[0m\u001b[32;49mpip install --upgrade pip\u001b[0m\n"
     ]
    }
   ],
   "source": [
    "!pip install mysql-connector-python"
   ]
  },
  {
   "cell_type": "code",
   "execution_count": 33,
   "id": "2df7b851-5791-4770-a49c-0ea17d560e0d",
   "metadata": {},
   "outputs": [],
   "source": [
    "import mysql.connector as connector"
   ]
  },
  {
   "cell_type": "code",
   "execution_count": 34,
   "id": "d341eef8-8634-4b9f-9662-6db0ef718206",
   "metadata": {},
   "outputs": [],
   "source": [
    "connection = connector.connect(user = \"admin1\", password = \"Admin1pass!\", database = \"little_lemon_db\")"
   ]
  },
  {
   "cell_type": "code",
   "execution_count": 36,
   "id": "707c368d-4781-4960-b35b-ffd1ed37ecac",
   "metadata": {},
   "outputs": [
    {
     "name": "stdout",
     "output_type": "stream",
     "text": [
      "[('Bookings',), ('Customers',), ('Employees',), ('MenuItems',), ('Menus',), ('Orders',), ('ordersview',)]\n"
     ]
    }
   ],
   "source": [
    "cursor = connection.cursor()\n",
    "show_tables_query = \"SHOW tables\" \n",
    "cursor.execute(show_tables_query)\n",
    "results = cursor.fetchall()\n",
    "print(results)"
   ]
  },
  {
   "cell_type": "code",
   "execution_count": 37,
   "id": "406af279",
   "metadata": {},
   "outputs": [],
   "source": [
    "join_query = \"\"\"\n",
    "SELECT CONCAT(Customers.firstName, ' ', Customers.lastName) AS FullName, \n",
    "\t\tCustomers.email,\n",
    "\t\tCustomers.PhoneNumber,\n",
    "\t\tOrders.BillAmount\n",
    "FROM Customers\n",
    "LEFT JOIN Bookings ON Bookings.CustomerID = Customers.CustomerID\n",
    "LEFT OUTER JOIN Orders ON Bookings.BookingID  = Orders.BookingID\n",
    "WHERE Orders.BillAmount > 60;\n",
    "\"\"\""
   ]
  },
  {
   "cell_type": "code",
   "execution_count": 41,
   "id": "97269021",
   "metadata": {},
   "outputs": [],
   "source": [
    "cursor.execute(join_query)\n"
   ]
  },
  {
   "cell_type": "code",
   "execution_count": 42,
   "id": "75eb8f0a",
   "metadata": {},
   "outputs": [],
   "source": [
    "join_results = cursor.fetchall()"
   ]
  },
  {
   "cell_type": "code",
   "execution_count": 43,
   "id": "ca7311cc",
   "metadata": {},
   "outputs": [
    {
     "name": "stdout",
     "output_type": "stream",
     "text": [
      "[('Joe Shmoe', 'jshmoe@gmail.com', '4151113456', 86)]\n"
     ]
    }
   ],
   "source": [
    "print(join_results)"
   ]
  }
 ],
 "metadata": {
  "kernelspec": {
   "display_name": "Python 3 (ipykernel)",
   "language": "python",
   "name": "python3"
  },
  "language_info": {
   "codemirror_mode": {
    "name": "ipython",
    "version": 3
   },
   "file_extension": ".py",
   "mimetype": "text/x-python",
   "name": "python",
   "nbconvert_exporter": "python",
   "pygments_lexer": "ipython3",
   "version": "3.11.2"
  }
 },
 "nbformat": 4,
 "nbformat_minor": 5
}
